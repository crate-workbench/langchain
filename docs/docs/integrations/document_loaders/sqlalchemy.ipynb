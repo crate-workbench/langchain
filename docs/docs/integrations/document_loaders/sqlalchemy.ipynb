{
 "cells": [
  {
   "cell_type": "markdown",
   "metadata": {},
   "source": [
    "# SQLAlchemy\n",
    "\n",
    "This notebook demonstrates how to load documents from an [SQLite] database,\n",
    "using the [SQLAlchemy] document loader.\n",
    "\n",
    "It loads the result of a database query with one document per row.\n",
    "\n",
    "[SQLAlchemy]: https://www.sqlalchemy.org/\n",
    "[SQLite]: https://sqlite.org/"
   ]
  },
  {
   "cell_type": "markdown",
   "source": [
    "## Prerequisites"
   ],
   "metadata": {
    "collapsed": false
   }
  },
  {
   "cell_type": "code",
   "execution_count": 33,
   "metadata": {
    "tags": []
   },
   "outputs": [],
   "source": [
    "#!pip install langchain termsql"
   ]
  },
  {
   "cell_type": "markdown",
   "source": [
    "Provide input data as SQLite database."
   ],
   "metadata": {
    "collapsed": false
   }
  },
  {
   "cell_type": "code",
   "execution_count": 34,
   "metadata": {
    "tags": []
   },
   "outputs": [
    {
     "name": "stdout",
     "output_type": "stream",
     "text": [
      "Overwriting example.csv\n"
     ]
    }
   ],
   "source": [
    "%%file example.csv\n",
    "Team,Payroll\n",
    "Nationals,81.34\n",
    "Reds,82.20"
   ]
  },
  {
   "cell_type": "code",
   "execution_count": 35,
   "outputs": [
    {
     "name": "stdout",
     "output_type": "stream",
     "text": [
      "Nationals|81.34\r\n",
      "Reds|82.2\r\n"
     ]
    }
   ],
   "source": [
    "!termsql --infile=example.csv --head --delimiter=\",\" --outfile=example.sqlite --table=payroll"
   ],
   "metadata": {
    "collapsed": false
   }
  },
  {
   "cell_type": "markdown",
   "source": [
    "## Usage"
   ],
   "metadata": {
    "collapsed": false
   }
  },
  {
   "cell_type": "code",
   "execution_count": 36,
   "metadata": {
    "tags": []
   },
   "outputs": [],
   "source": [
    "from langchain.document_loaders.sqlalchemy import SQLAlchemyLoader\n",
    "from pprint import pprint\n",
    "\n",
    "loader = SQLAlchemyLoader(\n",
    "    \"SELECT * FROM payroll\",\n",
    "    url=\"sqlite:///example.sqlite\",\n",
    ")\n",
    "documents = loader.load()"
   ]
  },
  {
   "cell_type": "code",
   "execution_count": 37,
   "metadata": {
    "tags": []
   },
   "outputs": [
    {
     "name": "stdout",
     "output_type": "stream",
     "text": [
      "[Document(page_content='Team: Nationals\\nPayroll: 81.34', metadata={}),\n",
      " Document(page_content='Team: Reds\\nPayroll: 82.2', metadata={})]\n"
     ]
    }
   ],
   "source": [
    "pprint(documents)"
   ]
  },
  {
   "cell_type": "markdown",
   "metadata": {},
   "source": [
    "## Specifying Which Columns are Content vs Metadata"
   ]
  },
  {
   "cell_type": "code",
   "execution_count": 38,
   "metadata": {},
   "outputs": [],
   "source": [
    "loader = SQLAlchemyLoader(\n",
    "    \"SELECT * FROM payroll\",\n",
    "    url=\"sqlite:///example.sqlite\",\n",
    "    page_content_columns=[\"Team\"],\n",
    "    metadata_columns=[\"Payroll\"],\n",
    ")\n",
    "documents = loader.load()"
   ]
  },
  {
   "cell_type": "code",
   "execution_count": 39,
   "metadata": {},
   "outputs": [
    {
     "name": "stdout",
     "output_type": "stream",
     "text": [
      "[Document(page_content='Team: Nationals', metadata={'Payroll': 81.34}),\n",
      " Document(page_content='Team: Reds', metadata={'Payroll': 82.2})]\n"
     ]
    }
   ],
   "source": [
    "pprint(documents)"
   ]
  },
  {
   "cell_type": "markdown",
   "metadata": {},
   "source": [
    "## Adding Source to Metadata"
   ]
  },
  {
   "cell_type": "code",
   "execution_count": 40,
   "metadata": {},
   "outputs": [],
   "source": [
    "loader = SQLAlchemyLoader(\n",
    "    \"SELECT * FROM payroll\",\n",
    "    url=\"sqlite:///example.sqlite\",\n",
    "    source_columns=[\"Team\"],\n",
    ")\n",
    "documents = loader.load()"
   ]
  },
  {
   "cell_type": "code",
   "execution_count": 41,
   "metadata": {},
   "outputs": [
    {
     "name": "stdout",
     "output_type": "stream",
     "text": [
      "[Document(page_content='Team: Nationals\\nPayroll: 81.34', metadata={'source': 'Nationals'}),\n",
      " Document(page_content='Team: Reds\\nPayroll: 82.2', metadata={'source': 'Reds'})]\n"
     ]
    }
   ],
   "source": [
    "pprint(documents)"
   ]
  }
 ],
 "metadata": {
  "kernelspec": {
   "display_name": "Python 3 (ipykernel)",
   "language": "python",
   "name": "python3"
  },
  "language_info": {
   "codemirror_mode": {
    "name": "ipython",
    "version": 3
   },
   "file_extension": ".py",
   "mimetype": "text/x-python",
   "name": "python",
   "nbconvert_exporter": "python",
   "pygments_lexer": "ipython3",
   "version": "3.10.6"
  }
 },
 "nbformat": 4,
 "nbformat_minor": 4
}
